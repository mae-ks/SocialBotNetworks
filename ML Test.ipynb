{
 "cells": [
  {
   "cell_type": "code",
   "execution_count": 1,
   "id": "088da906",
   "metadata": {},
   "outputs": [],
   "source": [
    "import pandas as pd\n",
    "import matplotlib.pyplot as plt\n",
    "import numpy as np\n",
    "import seaborn as sns"
   ]
  },
  {
   "cell_type": "code",
   "execution_count": 2,
   "id": "49563b8c",
   "metadata": {},
   "outputs": [
    {
     "data": {
      "text/plain": [
       "array([1, 1])"
      ]
     },
     "execution_count": 2,
     "metadata": {},
     "output_type": "execute_result"
    }
   ],
   "source": [
    "from sklearn import datasets\n",
    "from sklearn.neighbors import KNeighborsClassifier\n",
    "iris = datasets.load_iris()\n",
    "x = iris.data\n",
    "y = iris.target\n",
    "df = pd.DataFrame(x, columns=iris.feature_names)\n",
    "knn = KNeighborsClassifier(n_neighbors=6)\n",
    "knn.fit(iris.data, iris.target)\n",
    "X = [\n",
    "    [5.9, 1.0, 5.1, 1.8],\n",
    "    [3.4, 2.0, 1.1, 4.8],\n",
    "]\n",
    "knn.predict(X)"
   ]
  },
  {
   "cell_type": "code",
   "execution_count": 3,
   "id": "b515d02b",
   "metadata": {},
   "outputs": [
    {
     "data": {
      "text/plain": [
       "[<matplotlib.lines.Line2D at 0x19b0284b250>]"
      ]
     },
     "execution_count": 3,
     "metadata": {},
     "output_type": "execute_result"
    },
    {
     "data": {
      "image/png": "[encoded data removed]",
      "text/plain": [
       "<Figure size 432x288 with 1 Axes>"
      ]
     },
     "metadata": {
      "needs_background": "light"
     },
     "output_type": "display_data"
    }
   ],
   "source": [
    "from sklearn import datasets, linear_model\n",
    "diabetes = datasets.load_diabetes()\n",
    "x = diabetes.data[:, np.newaxis, 2]\n",
    "x_train = x[:-20]\n",
    "x_test = x[-20:]\n",
    "y_train = diabetes.target[:-20]\n",
    "y_test = diabetes.target[-20:]\n",
    "regr = linear_model.LinearRegression()\n",
    "regr.fit(x_train, y_train)\n",
    "y_pred = regr.predict(x_test)\n",
    "plt.scatter(x_test, y_test, color='black')\n",
    "plt.plot(x_test, y_pred, color='red', linewidth=1)"
   ]
  },
  {
   "cell_type": "code",
   "execution_count": 4,
   "id": "9d8b252f",
   "metadata": {},
   "outputs": [],
   "source": [
    "import pandas as pd\n",
    "import matplotlib.pyplot as plt\n",
    "# import numpy as np\n",
    "import seaborn as sns\n",
    "from sklearn import datasets\n",
    "from sklearn.model_selection import train_test_split\n",
    "from sklearn.ensemble import RandomForestClassifier\n",
    "from sklearn import metrics\n",
    "\n",
    "\n",
    "iris = datasets.load_iris()\n",
    "x = iris.data\n",
    "y = iris.target\n",
    "# df = pd.DataFrame({\n",
    "#     'sepal length':iris.data[:,0],\n",
    "#     'sepal width':iris.data[:,1],\n",
    "#     'petal length':iris.data[:,2],\n",
    "#     'petal width':iris.data[:,3],\n",
    "#     'species':iris.target\n",
    "# })\n",
    "df = pd.DataFrame(x, columns=iris.feature_names)\n",
    "df['species'] = iris.target"
   ]
  },
  {
   "cell_type": "code",
   "execution_count": 42,
   "id": "e7cef184",
   "metadata": {},
   "outputs": [
    {
     "data": {
      "text/html": [
       "<div>\n",
       "<style scoped>\n",
       "    .dataframe tbody tr th:only-of-type {\n",
       "        vertical-align: middle;\n",
       "    }\n",
       "\n",
       "    .dataframe tbody tr th {\n",
       "        vertical-align: top;\n",
       "    }\n",
       "\n",
       "    .dataframe thead th {\n",
       "        text-align: right;\n",
       "    }\n",
       "</style>\n",
       "<table border=\"1\" class=\"dataframe\">\n",
       "  <thead>\n",
       "    <tr style=\"text-align: right;\">\n",
       "      <th></th>\n",
       "      <th>sepal length (cm)</th>\n",
       "      <th>sepal width (cm)</th>\n",
       "      <th>petal length (cm)</th>\n",
       "      <th>petal width (cm)</th>\n",
       "      <th>species</th>\n",
       "    </tr>\n",
       "  </thead>\n",
       "  <tbody>\n",
       "    <tr>\n",
       "      <th>0</th>\n",
       "      <td>5.1</td>\n",
       "      <td>3.5</td>\n",
       "      <td>1.4</td>\n",
       "      <td>0.2</td>\n",
       "      <td>0</td>\n",
       "    </tr>\n",
       "    <tr>\n",
       "      <th>1</th>\n",
       "      <td>4.9</td>\n",
       "      <td>3.0</td>\n",
       "      <td>1.4</td>\n",
       "      <td>0.2</td>\n",
       "      <td>0</td>\n",
       "    </tr>\n",
       "    <tr>\n",
       "      <th>2</th>\n",
       "      <td>4.7</td>\n",
       "      <td>3.2</td>\n",
       "      <td>1.3</td>\n",
       "      <td>0.2</td>\n",
       "      <td>0</td>\n",
       "    </tr>\n",
       "    <tr>\n",
       "      <th>3</th>\n",
       "      <td>4.6</td>\n",
       "      <td>3.1</td>\n",
       "      <td>1.5</td>\n",
       "      <td>0.2</td>\n",
       "      <td>0</td>\n",
       "    </tr>\n",
       "    <tr>\n",
       "      <th>4</th>\n",
       "      <td>5.0</td>\n",
       "      <td>3.6</td>\n",
       "      <td>1.4</td>\n",
       "      <td>0.2</td>\n",
       "      <td>0</td>\n",
       "    </tr>\n",
       "    <tr>\n",
       "      <th>...</th>\n",
       "      <td>...</td>\n",
       "      <td>...</td>\n",
       "      <td>...</td>\n",
       "      <td>...</td>\n",
       "      <td>...</td>\n",
       "    </tr>\n",
       "    <tr>\n",
       "      <th>145</th>\n",
       "      <td>6.7</td>\n",
       "      <td>3.0</td>\n",
       "      <td>5.2</td>\n",
       "      <td>2.3</td>\n",
       "      <td>2</td>\n",
       "    </tr>\n",
       "    <tr>\n",
       "      <th>146</th>\n",
       "      <td>6.3</td>\n",
       "      <td>2.5</td>\n",
       "      <td>5.0</td>\n",
       "      <td>1.9</td>\n",
       "      <td>2</td>\n",
       "    </tr>\n",
       "    <tr>\n",
       "      <th>147</th>\n",
       "      <td>6.5</td>\n",
       "      <td>3.0</td>\n",
       "      <td>5.2</td>\n",
       "      <td>2.0</td>\n",
       "      <td>2</td>\n",
       "    </tr>\n",
       "    <tr>\n",
       "      <th>148</th>\n",
       "      <td>6.2</td>\n",
       "      <td>3.4</td>\n",
       "      <td>5.4</td>\n",
       "      <td>2.3</td>\n",
       "      <td>2</td>\n",
       "    </tr>\n",
       "    <tr>\n",
       "      <th>149</th>\n",
       "      <td>5.9</td>\n",
       "      <td>3.0</td>\n",
       "      <td>5.1</td>\n",
       "      <td>1.8</td>\n",
       "      <td>2</td>\n",
       "    </tr>\n",
       "  </tbody>\n",
       "</table>\n",
       "<p>150 rows × 5 columns</p>\n",
       "</div>"
      ],
      "text/plain": [
       "     sepal length (cm)  sepal width (cm)  petal length (cm)  petal width (cm)  \\\n",
       "0                  5.1               3.5                1.4               0.2   \n",
       "1                  4.9               3.0                1.4               0.2   \n",
       "2                  4.7               3.2                1.3               0.2   \n",
       "3                  4.6               3.1                1.5               0.2   \n",
       "4                  5.0               3.6                1.4               0.2   \n",
       "..                 ...               ...                ...               ...   \n",
       "145                6.7               3.0                5.2               2.3   \n",
       "146                6.3               2.5                5.0               1.9   \n",
       "147                6.5               3.0                5.2               2.0   \n",
       "148                6.2               3.4                5.4               2.3   \n",
       "149                5.9               3.0                5.1               1.8   \n",
       "\n",
       "     species  \n",
       "0          0  \n",
       "1          0  \n",
       "2          0  \n",
       "3          0  \n",
       "4          0  \n",
       "..       ...  \n",
       "145        2  \n",
       "146        2  \n",
       "147        2  \n",
       "148        2  \n",
       "149        2  \n",
       "\n",
       "[150 rows x 5 columns]"
      ]
     },
     "execution_count": 42,
     "metadata": {},
     "output_type": "execute_result"
    }
   ],
   "source": [
    "df"
   ]
  },
  {
   "cell_type": "code",
   "execution_count": 6,
   "id": "e6f18d4d",
   "metadata": {},
   "outputs": [
    {
     "name": "stdout",
     "output_type": "stream",
     "text": [
      "Accuracy: 1.0\n"
     ]
    }
   ],
   "source": [
    "x = df[['sepal length (cm)', 'sepal width (cm)', 'petal length (cm)', 'petal width (cm)']]\n",
    "y = df['species']\n",
    "x_train, x_test, y_train, y_test = train_test_split(x, y, test_size=0.3)\n",
    "clf = RandomForestClassifier(n_estimators=100)\n",
    "clf.fit(x_train.values, y_train.values)\n",
    "y_pred = clf.predict(x_test.values)\n",
    "temp = 0\n",
    "for _ in range(100):\n",
    "    temp += metrics.accuracy_score(y_test, y_pred)\n",
    "temp = temp/100\n",
    "print(\"Accuracy:\", temp)\n",
    "clf.predict([[3,5,4,2]]) # Predict one item\n",
    "\n",
    "# Feature importance\n",
    "feature_imp = pd.Series(clf.feature_importances_, index = iris.feature_names).sort_values(ascending=False)"
   ]
  },
  {
   "cell_type": "code",
   "execution_count": 7,
   "id": "3b78157c",
   "metadata": {
    "scrolled": true
   },
   "outputs": [
    {
     "data": {
      "image/png": "[encoded data removed]",
      "text/plain": [
       "<Figure size 432x288 with 1 Axes>"
      ]
     },
     "metadata": {
      "needs_background": "light"
     },
     "output_type": "display_data"
    },
    {
     "name": "stdout",
     "output_type": "stream",
     "text": [
      "Accuracy: 0.9523809523809523\n"
     ]
    }
   ],
   "source": [
    "%matplotlib inline \n",
    "# to view output below code cell that produced it\n",
    "sns.barplot(x=feature_imp, y=feature_imp.index)\n",
    "# Add labels to your graph\n",
    "plt.xlabel('Feature Importance Score')\n",
    "plt.ylabel('Features')\n",
    "plt.title(\"Visualizing Important Features\")\n",
    "plt.show()\n",
    "# Split dataset into features and labels\n",
    "# Increasing accuracy\n",
    "x = df[['sepal length (cm)', 'petal length (cm)', 'petal width (cm)']]  # Removed feature \"sepal width\"\n",
    "y = df['species']                                       \n",
    "# Split dataset into training set and test set\n",
    "x_train, x_test, y_train, y_test = train_test_split(x, y, test_size=0.70, random_state=5)\n",
    "clf = RandomForestClassifier(n_estimators=100)\n",
    "clf.fit(x_train,y_train)\n",
    "y_pred=clf.predict(x_test)\n",
    "print(\"Accuracy:\",metrics.accuracy_score(y_test, y_pred))"
   ]
  },
  {
   "cell_type": "markdown",
   "id": "3f1ecada",
   "metadata": {},
   "source": [
    "# Next"
   ]
  },
  {
   "cell_type": "code",
   "execution_count": 40,
   "id": "b4b9f2d9",
   "metadata": {},
   "outputs": [],
   "source": [
    "import pandas as pd     \n",
    "import numpy as np\n",
    "from bs4 import BeautifulSoup\n",
    "import re\n",
    "import nltk\n",
    "from nltk.corpus import stopwords # Import the stop word list\n",
    "\n",
    "from sklearn.feature_extraction.text import CountVectorizer\n",
    "from sklearn.model_selection import train_test_split\n",
    "from sklearn.ensemble import RandomForestClassifier\n",
    "from sklearn.metrics import accuracy_score"
   ]
  },
  {
   "cell_type": "code",
   "execution_count": 9,
   "id": "e7b546ca",
   "metadata": {},
   "outputs": [],
   "source": [
    "bot_comments = pd.read_csv(\"C:botnet_comments.csv\", low_memory = False)\n",
    "bot_comments.rename(columns={'reatedAt':'createdAt'},inplace=True)\n",
    "bot_comments.drop(['media', 'moderationLabels', 'numReports', 'parent', 'sb','isNewUserNeedsApproval', 'isHighlighted', 'isAtFlagLimit', 'isDeletedByAuthor', 'isDeleted', 'isSpam', 'isFlagged', 'editableUntil', 'isApproved'], axis=1, inplace=True)\n",
    "bot_comments['lenMessage'] = bot_comments.message.astype(str).map(lambda x: len(x))"
   ]
  },
  {
   "cell_type": "code",
   "execution_count": 10,
   "id": "013b8dce",
   "metadata": {},
   "outputs": [],
   "source": [
    "all_messages = []\n",
    "for message in bot_comments.message:\n",
    "    if len(str(message))>0:\n",
    "        sent = BeautifulSoup(str(message), \"html.parser\").get_text().lower()\n",
    "        letters_only = re.sub(\"[^a-zA-Z]\", \" \", sent)\n",
    "        all_messages.append(letters_only)\n",
    "# print(all_messages)"
   ]
  },
  {
   "cell_type": "code",
   "execution_count": 11,
   "id": "fb94e7a1",
   "metadata": {},
   "outputs": [],
   "source": [
    "words = ' '.join(all_messages).split(' ')"
   ]
  },
  {
   "cell_type": "code",
   "execution_count": 12,
   "id": "1cd86e52",
   "metadata": {},
   "outputs": [],
   "source": [
    "newwords = []\n",
    "stops = set(stopwords.words('english'))\n",
    "for w in words:\n",
    "    if w not in stops and w != '':\n",
    "        newwords.append(w)"
   ]
  },
  {
   "cell_type": "code",
   "execution_count": 33,
   "id": "22dfc486",
   "metadata": {},
   "outputs": [],
   "source": [
    "def clean_text_data(data_point, data_size):\n",
    "    if len(str(data_point))>0:\n",
    "        sent = BeautifulSoup(str(data_point), \"html.parser\").get_text().lower()\n",
    "        review_letters_only = re.sub(\"[^a-zA-Z]\", \" \", sent) \n",
    "    review_words = review_letters_only.split()\n",
    "    stops = set(stopwords.words(\"english\"))\n",
    "    meaningful_words = []\n",
    "    for w in review_words:\n",
    "        if w not in stops and w != '':\n",
    "            meaningful_words.append(w)\n",
    "    if( (i)%15000 == 0 ):\n",
    "        print(f\"Cleaned {round(((i)/data_size)*100)}% of {data_size} data.\")\n",
    "        \n",
    "    return( \" \".join( meaningful_words))"
   ]
  },
  {
   "cell_type": "code",
   "execution_count": 34,
   "id": "cc3a06d8",
   "metadata": {},
   "outputs": [
    {
     "name": "stdout",
     "output_type": "stream",
     "text": [
      "Cleaned 0% of 281357 data.\n",
      "Cleaned 5% of 281357 data.\n",
      "Cleaned 11% of 281357 data.\n",
      "Cleaned 16% of 281357 data.\n",
      "Cleaned 21% of 281357 data.\n",
      "Cleaned 27% of 281357 data.\n",
      "Cleaned 32% of 281357 data.\n",
      "Cleaned 37% of 281357 data.\n",
      "Cleaned 43% of 281357 data.\n",
      "Cleaned 48% of 281357 data.\n",
      "Cleaned 53% of 281357 data.\n",
      "Cleaned 59% of 281357 data.\n",
      "Cleaned 64% of 281357 data.\n",
      "Cleaned 69% of 281357 data.\n",
      "Cleaned 75% of 281357 data.\n",
      "Cleaned 80% of 281357 data.\n",
      "Cleaned 85% of 281357 data.\n",
      "Cleaned 91% of 281357 data.\n",
      "Cleaned 96% of 281357 data.\n"
     ]
    }
   ],
   "source": [
    "temp = []\n",
    "\n",
    "for i in range(len(bot_comments.message)):\n",
    "    temp.append(clean_text_data(bot_comments.message[i], len(bot_comments.message)))"
   ]
  },
  {
   "cell_type": "code",
   "execution_count": 38,
   "id": "37928c30",
   "metadata": {},
   "outputs": [],
   "source": [
    "bot_comments['cleanedMessage'] = temp"
   ]
  },
  {
   "cell_type": "code",
   "execution_count": 41,
   "id": "2a126ae9",
   "metadata": {},
   "outputs": [],
   "source": [
    "vectorizer = CountVectorizer(analyzer = \"word\",\n",
    "                             tokenizer = None,\n",
    "                             preprocessor = None,\n",
    "                             stop_words = None,\n",
    "                             max_features = 5000)"
   ]
  },
  {
   "cell_type": "code",
   "execution_count": null,
   "id": "407643da",
   "metadata": {},
   "outputs": [],
   "source": [
    "iris = datasets.load_iris()\n",
    "df = pd.DataFrame(x, columns=iris.feature_names)\n",
    "df['species'] = iris.target\n",
    "x = df[['sepal length (cm)', 'sepal width (cm)', 'petal length (cm)', 'petal width (cm)']]\n",
    "y = df['species']\n",
    "x_train, x_test, y_train, y_test = train_test_split(x, y, test_size=0.3)"
   ]
  },
  {
   "cell_type": "code",
   "execution_count": 49,
   "id": "018dc481",
   "metadata": {},
   "outputs": [],
   "source": [
    "bot_comments['isBot'] = [True for _ in range(len(bot_comments))]"
   ]
  },
  {
   "cell_type": "code",
   "execution_count": 56,
   "id": "a1993e08",
   "metadata": {},
   "outputs": [
    {
     "data": {
      "text/html": [
       "<div>\n",
       "<style scoped>\n",
       "    .dataframe tbody tr th:only-of-type {\n",
       "        vertical-align: middle;\n",
       "    }\n",
       "\n",
       "    .dataframe tbody tr th {\n",
       "        vertical-align: top;\n",
       "    }\n",
       "\n",
       "    .dataframe thead th {\n",
       "        text-align: right;\n",
       "    }\n",
       "</style>\n",
       "<table border=\"1\" class=\"dataframe\">\n",
       "  <thead>\n",
       "    <tr style=\"text-align: right;\">\n",
       "      <th></th>\n",
       "      <th>username</th>\n",
       "      <th>canVote</th>\n",
       "      <th>createdAt</th>\n",
       "      <th>dislikes</th>\n",
       "      <th>forum</th>\n",
       "      <th>id</th>\n",
       "      <th>isEdited</th>\n",
       "      <th>likes</th>\n",
       "      <th>message</th>\n",
       "      <th>points</th>\n",
       "      <th>lenMessage</th>\n",
       "      <th>cleanedMessage</th>\n",
       "      <th>isBot</th>\n",
       "    </tr>\n",
       "  </thead>\n",
       "  <tbody>\n",
       "    <tr>\n",
       "      <th>0</th>\n",
       "      <td>patriot1970</td>\n",
       "      <td>False</td>\n",
       "      <td>2011-04-10T02:19:32</td>\n",
       "      <td>0</td>\n",
       "      <td>myfoxdetroit</td>\n",
       "      <td>181734313</td>\n",
       "      <td>False</td>\n",
       "      <td>6</td>\n",
       "      <td>&lt;p&gt;Someone will definitely be fired over this,...</td>\n",
       "      <td>6</td>\n",
       "      <td>132</td>\n",
       "      <td>someone definitely fired well could seriously ...</td>\n",
       "      <td>True</td>\n",
       "    </tr>\n",
       "    <tr>\n",
       "      <th>1</th>\n",
       "      <td>qxyz</td>\n",
       "      <td>False</td>\n",
       "      <td>2011-03-02T05:22:53</td>\n",
       "      <td>0</td>\n",
       "      <td>myfoxdetroit</td>\n",
       "      <td>158837937</td>\n",
       "      <td>False</td>\n",
       "      <td>8</td>\n",
       "      <td>&lt;p&gt;your probably just mad because the only act...</td>\n",
       "      <td>8</td>\n",
       "      <td>130</td>\n",
       "      <td>probably mad action get hand sorry mised meeti...</td>\n",
       "      <td>True</td>\n",
       "    </tr>\n",
       "  </tbody>\n",
       "</table>\n",
       "</div>"
      ],
      "text/plain": [
       "      username  canVote            createdAt  dislikes         forum  \\\n",
       "0  patriot1970    False  2011-04-10T02:19:32         0  myfoxdetroit   \n",
       "1         qxyz    False  2011-03-02T05:22:53         0  myfoxdetroit   \n",
       "\n",
       "          id  isEdited  likes  \\\n",
       "0  181734313     False      6   \n",
       "1  158837937     False      8   \n",
       "\n",
       "                                             message  points  lenMessage  \\\n",
       "0  <p>Someone will definitely be fired over this,...       6         132   \n",
       "1  <p>your probably just mad because the only act...       8         130   \n",
       "\n",
       "                                      cleanedMessage  isBot  \n",
       "0  someone definitely fired well could seriously ...   True  \n",
       "1  probably mad action get hand sorry mised meeti...   True  "
      ]
     },
     "execution_count": 56,
     "metadata": {},
     "output_type": "execute_result"
    }
   ],
   "source": [
    "bot_comments.head(2)"
   ]
  },
  {
   "cell_type": "code",
   "execution_count": 80,
   "id": "cf686261",
   "metadata": {},
   "outputs": [],
   "source": [
    "X = bot_comments[['username', 'createdAt', 'forum', 'cleanedMessage']]\n",
    "Y = bot_comments['isBot']\n",
    "X_train, X_test, Y_train, Y_test = train_test_split(X['cleanedMessage'], Y, test_size = 0.3, random_state=42)"
   ]
  },
  {
   "cell_type": "code",
   "execution_count": 82,
   "id": "4cadc52d",
   "metadata": {},
   "outputs": [
    {
     "name": "stdout",
     "output_type": "stream",
     "text": [
      "(196949, 5000)\n",
      "(84408, 5000)\n"
     ]
    }
   ],
   "source": [
    "X_train = vectorizer.fit_transform(X_train)\n",
    "X_train = X_train.toarray()\n",
    "print(X_train.shape)\n",
    "X_test = vectorizer.transform(X_test)\n",
    "X_test = X_test.toarray()\n",
    "print(X_test.shape)"
   ]
  },
  {
   "cell_type": "code",
   "execution_count": 84,
   "id": "6c4f2941",
   "metadata": {},
   "outputs": [
    {
     "name": "stdout",
     "output_type": "stream",
     "text": [
      "Printing first 100 vocabulary samples:\n",
      "['abbott' 'abc' 'abhor' 'abiding' 'ability' 'able' 'abortion' 'abroad'\n",
      " 'absolute' 'absolutely' 'absolutist' 'abu' 'abuse' 'aby' 'ac' 'academic'\n",
      " 'accept' 'acceptable' 'accepted' 'access' 'accessible' 'accessories'\n",
      " 'accident' 'accidents' 'according' 'account' 'accountable' 'accounting'\n",
      " 'accounts' 'accurate' 'achieve' 'achieved' 'achievement' 'achieving'\n",
      " 'ack' 'acne' 'acoustic' 'acquire' 'acquired' 'across' 'act' 'acting'\n",
      " 'action' 'actions' 'active' 'activities' 'activity' 'actor' 'actress'\n",
      " 'acts' 'actual' 'actually' 'ad' 'adam' 'add' 'added' 'addiction' 'adding'\n",
      " 'addition' 'additional' 'additionally' 'address' 'adem' 'adequate'\n",
      " 'administration' 'admire' 'admit' 'admitted' 'adopt' 'ads' 'adult'\n",
      " 'adults' 'advance' 'advanced' 'advancement' 'advantage' 'advantages'\n",
      " 'advertisement' 'advertising' 'advice' 'affair' 'affairs' 'affect'\n",
      " 'affected' 'affects' 'afford' 'affordable' 'afghanistan' 'afraid'\n",
      " 'africa' 'african' 'age' 'agencies' 'agency' 'agenda' 'agent' 'agents'\n",
      " 'ages' 'aggression' 'ago']\n"
     ]
    }
   ],
   "source": [
    "vocab = vectorizer.get_feature_names_out()\n",
    "print(f\"Printing first 100 vocabulary samples:\\n{vocab[:100]}\")"
   ]
  },
  {
   "cell_type": "code",
   "execution_count": 86,
   "id": "b12726cc",
   "metadata": {},
   "outputs": [
    {
     "name": "stdout",
     "output_type": "stream",
     "text": [
      "Printing first 20 vocab-dist pairs:\n",
      "362 abbott\n",
      "251 abc\n",
      "439 abhor\n",
      "113 abiding\n",
      "436 ability\n",
      "1914 able\n",
      "215 abortion\n",
      "111 abroad\n",
      "209 absolute\n",
      "630 absolutely\n",
      "398 absolutist\n",
      "98 abu\n",
      "528 abuse\n",
      "135 aby\n",
      "150 ac\n",
      "166 academic\n",
      "1336 accept\n",
      "148 acceptable\n",
      "142 accepted\n",
      "712 access\n"
     ]
    }
   ],
   "source": [
    "distribution = np.sum(X_train, axis=0)\n",
    "print(\"Printing first 20 vocab-dist pairs:\")\n",
    "for tag, count in zip(vocab[:20], distribution[:20]):\n",
    "    print(count, tag)"
   ]
  },
  {
   "cell_type": "code",
   "execution_count": 96,
   "id": "af1de246",
   "metadata": {},
   "outputs": [
    {
     "name": "stdout",
     "output_type": "stream",
     "text": [
      "Accuracy: 100.0%\n"
     ]
    }
   ],
   "source": [
    "# clf = RandomForestClassifier(n_estimators=100)\n",
    "# clf.fit(x_train.values, y_train.values)\n",
    "# y_pred = clf.predict(x_test.values)\n",
    "# temp = 0\n",
    "# for _ in range(100):\n",
    "#     temp += metrics.accuracy_score(y_test, y_pred)\n",
    "# temp = temp/100\n",
    "# print(\"Accuracy:\", temp)\n",
    "# clf.predict([[3,5,4,2]]) # Predict one item\n",
    "\n",
    "# # Feature importance\n",
    "# feature_imp = pd.Series(clf.feature_importances_, index = iris.feature_names).sort_values(ascending=False)\n",
    "forest = RandomForestClassifier() \n",
    "forest.fit(X_train, Y_train)\n",
    "predictions = forest.predict(X_test) \n",
    "print(f\"Accuracy: {accuracy_score(Y_test, predictions)*100}%\")"
   ]
  }
 ],
 "metadata": {
  "kernelspec": {
   "display_name": "Python 3 (ipykernel)",
   "language": "python",
   "name": "python3"
  },
  "language_info": {
   "codemirror_mode": {
    "name": "ipython",
    "version": 3
   },
   "file_extension": ".py",
   "mimetype": "text/x-python",
   "name": "python",
   "nbconvert_exporter": "python",
   "pygments_lexer": "ipython3",
   "version": "3.9.6"
  }
 },
 "nbformat": 4,
 "nbformat_minor": 5
}
