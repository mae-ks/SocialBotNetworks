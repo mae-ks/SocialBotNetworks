{
 "cells": [
  {
   "cell_type": "code",
   "execution_count": 1,
   "id": "75f83aca",
   "metadata": {},
   "outputs": [],
   "source": [
    "import re\n",
    "import pandas as pd\n",
    "import numpy as np\n",
    "import matplotlib.pyplot as plt\n",
    "from datetime import datetime, timedelta"
   ]
  },
  {
   "cell_type": "code",
   "execution_count": 2,
   "id": "81a38413",
   "metadata": {},
   "outputs": [
    {
     "data": {
      "text/html": [
       "<div>\n",
       "<style scoped>\n",
       "    .dataframe tbody tr th:only-of-type {\n",
       "        vertical-align: middle;\n",
       "    }\n",
       "\n",
       "    .dataframe tbody tr th {\n",
       "        vertical-align: top;\n",
       "    }\n",
       "\n",
       "    .dataframe thead th {\n",
       "        text-align: right;\n",
       "    }\n",
       "</style>\n",
       "<table border=\"1\" class=\"dataframe\">\n",
       "  <thead>\n",
       "    <tr style=\"text-align: right;\">\n",
       "      <th></th>\n",
       "      <th>username</th>\n",
       "      <th>email_id</th>\n",
       "      <th>email_provider_id</th>\n",
       "      <th>is_major_email_provider</th>\n",
       "      <th>email_reuse_id</th>\n",
       "      <th>password_id</th>\n",
       "      <th>is_common_password</th>\n",
       "      <th>creation_date</th>\n",
       "    </tr>\n",
       "  </thead>\n",
       "  <tbody>\n",
       "    <tr>\n",
       "      <th>0</th>\n",
       "      <td>Eleanor2345</td>\n",
       "      <td>email_9794418</td>\n",
       "      <td>email_provider_14</td>\n",
       "      <td>True</td>\n",
       "      <td>email_reuse_6100</td>\n",
       "      <td>password_1003131</td>\n",
       "      <td>False</td>\n",
       "      <td>2009-11-14 00:41:42.176683-05</td>\n",
       "    </tr>\n",
       "    <tr>\n",
       "      <th>1</th>\n",
       "      <td>Carling2345</td>\n",
       "      <td>email_9794410</td>\n",
       "      <td>email_provider_14</td>\n",
       "      <td>True</td>\n",
       "      <td>email_reuse_6100</td>\n",
       "      <td>password_1003131</td>\n",
       "      <td>False</td>\n",
       "      <td>2009-11-11 04:27:49.997487-05</td>\n",
       "    </tr>\n",
       "    <tr>\n",
       "      <th>2</th>\n",
       "      <td>Cecania23456</td>\n",
       "      <td>email_9794246</td>\n",
       "      <td>email_provider_14</td>\n",
       "      <td>True</td>\n",
       "      <td>email_reuse_6100</td>\n",
       "      <td>password_1003131</td>\n",
       "      <td>False</td>\n",
       "      <td>2009-11-11 07:15:30.413369-05</td>\n",
       "    </tr>\n",
       "  </tbody>\n",
       "</table>\n",
       "</div>"
      ],
      "text/plain": [
       "       username       email_id  email_provider_id  is_major_email_provider  \\\n",
       "0   Eleanor2345  email_9794418  email_provider_14                     True   \n",
       "1   Carling2345  email_9794410  email_provider_14                     True   \n",
       "2  Cecania23456  email_9794246  email_provider_14                     True   \n",
       "\n",
       "     email_reuse_id       password_id  is_common_password  \\\n",
       "0  email_reuse_6100  password_1003131               False   \n",
       "1  email_reuse_6100  password_1003131               False   \n",
       "2  email_reuse_6100  password_1003131               False   \n",
       "\n",
       "                   creation_date  \n",
       "0  2009-11-14 00:41:42.176683-05  \n",
       "1  2009-11-11 04:27:49.997487-05  \n",
       "2  2009-11-11 07:15:30.413369-05  "
      ]
     },
     "execution_count": 2,
     "metadata": {},
     "output_type": "execute_result"
    }
   ],
   "source": [
    "bot_users = pd.read_csv(\"C:potential_social_botnets.csv\")\n",
    "bot_users.head(3)"
   ]
  },
  {
   "cell_type": "code",
   "execution_count": 3,
   "id": "385cf2e4",
   "metadata": {},
   "outputs": [
    {
     "data": {
      "text/plain": [
       "Index(['username', 'canVote', 'createdAt', 'dislikes', 'forum', 'id',\n",
       "       'isEdited', 'likes', 'message', 'points', 'lenMessage'],\n",
       "      dtype='object')"
      ]
     },
     "execution_count": 3,
     "metadata": {},
     "output_type": "execute_result"
    }
   ],
   "source": [
    "bot_comments = pd.read_csv(\"C:botnet_comments.csv\", low_memory=False)\n",
    "bot_comments.rename(columns={'reatedAt':'createdAt'},inplace=True)\n",
    "bot_comments.drop(['media', 'moderationLabels', 'numReports', 'parent', 'sb','isNewUserNeedsApproval', 'isHighlighted', 'isAtFlagLimit', 'isDeletedByAuthor', 'isDeleted', 'isSpam', 'isFlagged', 'editableUntil', 'isApproved'], axis=1, inplace=True)\n",
    "bot_comments['lenMessage'] = bot_comments.message.astype(str).map(lambda x: len(x))\n",
    "bot_comments.columns"
   ]
  },
  {
   "cell_type": "markdown",
   "id": "25dc1899",
   "metadata": {},
   "source": [
    "To identify a bot network:\n",
    "1. Similar username construction.\n",
    "2. Comments will have similar purpose:\n",
    "    - To raise awareness about something (eg. Syria)\n",
    "    - To trick people into clicking hyperlinks (eg. scam links)\n",
    "    - To spread opinion (eg. kpop messages, politics)\n",
    "\n",
    "Previously, I looked into comments that remarked on Syria, and was easily able to identify the network since they all had comments that were either identical or commented on the same topic, or had their usernames in the same regex format (^[A-Z].+_[A-Z].+). These networks are easy to identify.\n",
    "This time I chose to target the bot that commented the most, and it turns out that its network is pretty obscure and well-hidden."
   ]
  },
  {
   "cell_type": "code",
   "execution_count": 4,
   "id": "0051fc75",
   "metadata": {},
   "outputs": [
    {
     "data": {
      "text/html": [
       "<div>\n",
       "<style scoped>\n",
       "    .dataframe tbody tr th:only-of-type {\n",
       "        vertical-align: middle;\n",
       "    }\n",
       "\n",
       "    .dataframe tbody tr th {\n",
       "        vertical-align: top;\n",
       "    }\n",
       "\n",
       "    .dataframe thead th {\n",
       "        text-align: right;\n",
       "    }\n",
       "</style>\n",
       "<table border=\"1\" class=\"dataframe\">\n",
       "  <thead>\n",
       "    <tr style=\"text-align: right;\">\n",
       "      <th></th>\n",
       "      <th>username</th>\n",
       "      <th>canVote</th>\n",
       "      <th>createdAt</th>\n",
       "      <th>dislikes</th>\n",
       "      <th>forum</th>\n",
       "      <th>id</th>\n",
       "      <th>isEdited</th>\n",
       "      <th>likes</th>\n",
       "      <th>message</th>\n",
       "      <th>points</th>\n",
       "      <th>lenMessage</th>\n",
       "    </tr>\n",
       "  </thead>\n",
       "  <tbody>\n",
       "    <tr>\n",
       "      <th>1732</th>\n",
       "      <td>jump_master82</td>\n",
       "      <td>False</td>\n",
       "      <td>2020-11-19T22:52:00</td>\n",
       "      <td>1</td>\n",
       "      <td>breitbartproduction</td>\n",
       "      <td>5158268517</td>\n",
       "      <td>False</td>\n",
       "      <td>0</td>\n",
       "      <td>&lt;p&gt;Prove it&lt;/p&gt;</td>\n",
       "      <td>-1</td>\n",
       "      <td>15</td>\n",
       "    </tr>\n",
       "    <tr>\n",
       "      <th>12706</th>\n",
       "      <td>woodysway</td>\n",
       "      <td>False</td>\n",
       "      <td>2012-05-31T14:44:18</td>\n",
       "      <td>0</td>\n",
       "      <td>bdn</td>\n",
       "      <td>543803385</td>\n",
       "      <td>False</td>\n",
       "      <td>3</td>\n",
       "      <td>&lt;p&gt;Yes.&lt;/p&gt;</td>\n",
       "      <td>3</td>\n",
       "      <td>11</td>\n",
       "    </tr>\n",
       "    <tr>\n",
       "      <th>15963</th>\n",
       "      <td>twitter_251346316</td>\n",
       "      <td>False</td>\n",
       "      <td>2011-12-30T10:44:24</td>\n",
       "      <td>0</td>\n",
       "      <td>ajblogs</td>\n",
       "      <td>397158523</td>\n",
       "      <td>False</td>\n",
       "      <td>0</td>\n",
       "      <td>&lt;p&gt;Why?&lt;/p&gt;</td>\n",
       "      <td>0</td>\n",
       "      <td>11</td>\n",
       "    </tr>\n",
       "    <tr>\n",
       "      <th>17845</th>\n",
       "      <td>912anita</td>\n",
       "      <td>False</td>\n",
       "      <td>2011-10-30T23:14:13</td>\n",
       "      <td>0</td>\n",
       "      <td>foxnews</td>\n",
       "      <td>351288974</td>\n",
       "      <td>False</td>\n",
       "      <td>1</td>\n",
       "      <td>&lt;p&gt;loser&lt;/p&gt;</td>\n",
       "      <td>1</td>\n",
       "      <td>12</td>\n",
       "    </tr>\n",
       "    <tr>\n",
       "      <th>20313</th>\n",
       "      <td>912anita</td>\n",
       "      <td>False</td>\n",
       "      <td>2011-07-14T05:16:17</td>\n",
       "      <td>0</td>\n",
       "      <td>nationfoxnews</td>\n",
       "      <td>251823796</td>\n",
       "      <td>False</td>\n",
       "      <td>4</td>\n",
       "      <td>&lt;p&gt;me too.&lt;/p&gt;</td>\n",
       "      <td>4</td>\n",
       "      <td>14</td>\n",
       "    </tr>\n",
       "    <tr>\n",
       "      <th>...</th>\n",
       "      <td>...</td>\n",
       "      <td>...</td>\n",
       "      <td>...</td>\n",
       "      <td>...</td>\n",
       "      <td>...</td>\n",
       "      <td>...</td>\n",
       "      <td>...</td>\n",
       "      <td>...</td>\n",
       "      <td>...</td>\n",
       "      <td>...</td>\n",
       "      <td>...</td>\n",
       "    </tr>\n",
       "    <tr>\n",
       "      <th>204601</th>\n",
       "      <td>buzzzyman2</td>\n",
       "      <td>False</td>\n",
       "      <td>2011-12-20T22:43:33</td>\n",
       "      <td>0</td>\n",
       "      <td>chrisbrogan</td>\n",
       "      <td>391003678</td>\n",
       "      <td>False</td>\n",
       "      <td>0</td>\n",
       "      <td>&lt;p&gt;good point&lt;/p&gt;</td>\n",
       "      <td>0</td>\n",
       "      <td>17</td>\n",
       "    </tr>\n",
       "    <tr>\n",
       "      <th>233986</th>\n",
       "      <td>amanda3456</td>\n",
       "      <td>False</td>\n",
       "      <td>2010-12-24T13:35:32</td>\n",
       "      <td>0</td>\n",
       "      <td>nashvillest</td>\n",
       "      <td>118195499</td>\n",
       "      <td>False</td>\n",
       "      <td>0</td>\n",
       "      <td>&lt;p&gt;Merry Christmas!&lt;/p&gt;</td>\n",
       "      <td>0</td>\n",
       "      <td>23</td>\n",
       "    </tr>\n",
       "    <tr>\n",
       "      <th>248807</th>\n",
       "      <td>VagLiker</td>\n",
       "      <td>False</td>\n",
       "      <td>2012-04-21T23:40:34</td>\n",
       "      <td>0</td>\n",
       "      <td>cnn</td>\n",
       "      <td>505810369</td>\n",
       "      <td>False</td>\n",
       "      <td>0</td>\n",
       "      <td>&lt;p&gt;nope&lt;/p&gt;</td>\n",
       "      <td>0</td>\n",
       "      <td>11</td>\n",
       "    </tr>\n",
       "    <tr>\n",
       "      <th>263147</th>\n",
       "      <td>antiquebarberchair</td>\n",
       "      <td>False</td>\n",
       "      <td>2010-04-10T09:51:44</td>\n",
       "      <td>0</td>\n",
       "      <td>tribunesearch</td>\n",
       "      <td>44178141</td>\n",
       "      <td>False</td>\n",
       "      <td>0</td>\n",
       "      <td>&lt;p&gt;RIP.&lt;/p&gt;</td>\n",
       "      <td>0</td>\n",
       "      <td>11</td>\n",
       "    </tr>\n",
       "    <tr>\n",
       "      <th>276192</th>\n",
       "      <td>muffyroberts</td>\n",
       "      <td>False</td>\n",
       "      <td>2012-06-16T22:08:31</td>\n",
       "      <td>0</td>\n",
       "      <td>nationfoxnews</td>\n",
       "      <td>560066405</td>\n",
       "      <td>False</td>\n",
       "      <td>1</td>\n",
       "      <td>&lt;p&gt;Absolutely.&lt;/p&gt;</td>\n",
       "      <td>1</td>\n",
       "      <td>18</td>\n",
       "    </tr>\n",
       "  </tbody>\n",
       "</table>\n",
       "<p>70 rows × 11 columns</p>\n",
       "</div>"
      ],
      "text/plain": [
       "                  username  canVote            createdAt  dislikes  \\\n",
       "1732         jump_master82    False  2020-11-19T22:52:00         1   \n",
       "12706            woodysway    False  2012-05-31T14:44:18         0   \n",
       "15963    twitter_251346316    False  2011-12-30T10:44:24         0   \n",
       "17845             912anita    False  2011-10-30T23:14:13         0   \n",
       "20313             912anita    False  2011-07-14T05:16:17         0   \n",
       "...                    ...      ...                  ...       ...   \n",
       "204601          buzzzyman2    False  2011-12-20T22:43:33         0   \n",
       "233986          amanda3456    False  2010-12-24T13:35:32         0   \n",
       "248807            VagLiker    False  2012-04-21T23:40:34         0   \n",
       "263147  antiquebarberchair    False  2010-04-10T09:51:44         0   \n",
       "276192        muffyroberts    False  2012-06-16T22:08:31         0   \n",
       "\n",
       "                      forum          id  isEdited  likes  \\\n",
       "1732    breitbartproduction  5158268517     False      0   \n",
       "12706                   bdn   543803385     False      3   \n",
       "15963               ajblogs   397158523     False      0   \n",
       "17845               foxnews   351288974     False      1   \n",
       "20313         nationfoxnews   251823796     False      4   \n",
       "...                     ...         ...       ...    ...   \n",
       "204601          chrisbrogan   391003678     False      0   \n",
       "233986          nashvillest   118195499     False      0   \n",
       "248807                  cnn   505810369     False      0   \n",
       "263147        tribunesearch    44178141     False      0   \n",
       "276192        nationfoxnews   560066405     False      1   \n",
       "\n",
       "                        message  points  lenMessage  \n",
       "1732            <p>Prove it</p>      -1          15  \n",
       "12706               <p>Yes.</p>       3          11  \n",
       "15963               <p>Why?</p>       0          11  \n",
       "17845              <p>loser</p>       1          12  \n",
       "20313            <p>me too.</p>       4          14  \n",
       "...                         ...     ...         ...  \n",
       "204601        <p>good point</p>       0          17  \n",
       "233986  <p>Merry Christmas!</p>       0          23  \n",
       "248807              <p>nope</p>       0          11  \n",
       "263147              <p>RIP.</p>       0          11  \n",
       "276192       <p>Absolutely.</p>       1          18  \n",
       "\n",
       "[70 rows x 11 columns]"
      ]
     },
     "execution_count": 4,
     "metadata": {},
     "output_type": "execute_result"
    }
   ],
   "source": [
    "truefaith1_messages = bot_comments.loc[(bot_comments.username == 'truefaith1') & (bot_comments.lenMessage > 10)]\n",
    "bot_comments.loc[(bot_comments.message.isin(truefaith1_messages.message)) & (bot_comments.username != 'truefaith1')]"
   ]
  },
  {
   "cell_type": "markdown",
   "id": "9029da5b",
   "metadata": {},
   "source": [
    "Little to no correlation between any of the comments by truefaith1 and the rest of the bot comments.\n",
    "So what exactly is the purpose of truefaith1?\n",
    "1. Try to find out if the dates of comments created by truefaith1 has any connection.\n",
    "2. Could truefaith1 be an actual user? Try to find out if user ID matches any other bots' IDs because bots from the same network usually have the same password IDs.\n"
   ]
  },
  {
   "cell_type": "code",
   "execution_count": 6,
   "id": "240dfdc5",
   "metadata": {},
   "outputs": [
    {
     "name": "stderr",
     "output_type": "stream",
     "text": [
      "C:\\Users\\maeky\\AppData\\Local\\Temp/ipykernel_41796/4224081205.py:1: SettingWithCopyWarning: \n",
      "A value is trying to be set on a copy of a slice from a DataFrame.\n",
      "Try using .loc[row_indexer,col_indexer] = value instead\n",
      "\n",
      "See the caveats in the documentation: https://pandas.pydata.org/pandas-docs/stable/user_guide/indexing.html#returning-a-view-versus-a-copy\n",
      "  truefaith1_messages[\"createdAt\"] = pd.to_datetime(truefaith1_messages.createdAt.astype(str).str.split(' ').str[0])\n"
     ]
    },
    {
     "data": {
      "text/plain": [
       "2017-03-01    43\n",
       "2019-08-13    39\n",
       "2019-08-14    35\n",
       "2017-04-24    28\n",
       "2020-10-09    26\n",
       "              ..\n",
       "2018-02-01     1\n",
       "2017-12-28     1\n",
       "2019-11-02     1\n",
       "2017-12-30     1\n",
       "2020-03-17     1\n",
       "Name: createdAt, Length: 1096, dtype: int64"
      ]
     },
     "execution_count": 6,
     "metadata": {},
     "output_type": "execute_result"
    }
   ],
   "source": [
    "truefaith1_messages[\"createdAt\"] = pd.to_datetime(truefaith1_messages.createdAt.astype(str).str.split(' ').str[0])\n",
    "truefaith1_messages.createdAt.value_counts()"
   ]
  },
  {
   "cell_type": "code",
   "execution_count": 7,
   "id": "0af8424c",
   "metadata": {
    "scrolled": false
   },
   "outputs": [
    {
     "data": {
      "text/plain": [
       "<AxesSubplot:>"
      ]
     },
     "execution_count": 7,
     "metadata": {},
     "output_type": "execute_result"
    },
    {
     "data": {
      "image/png": "[encoded data removed]",
      "text/plain": [
       "<Figure size 432x288 with 1 Axes>"
      ]
     },
     "metadata": {
      "needs_background": "light"
     },
     "output_type": "display_data"
    }
   ],
   "source": [
    "truefaith1_messages['createdAt'].value_counts().plot(kind='line')"
   ]
  },
  {
   "cell_type": "code",
   "execution_count": 8,
   "id": "5207888f",
   "metadata": {},
   "outputs": [
    {
     "data": {
      "text/plain": [
       "breitbartproduction    43\n",
       "Name: forum, dtype: int64"
      ]
     },
     "execution_count": 8,
     "metadata": {},
     "output_type": "execute_result"
    }
   ],
   "source": [
    "truefaith1_messages.loc[truefaith1_messages.createdAt == '2017-03-01'].forum.value_counts()"
   ]
  },
  {
   "cell_type": "code",
   "execution_count": 9,
   "id": "e17d6c31",
   "metadata": {},
   "outputs": [
    {
     "data": {
      "text/plain": [
       "53995    password_1557500\n",
       "Name: password_id, dtype: object"
      ]
     },
     "execution_count": 9,
     "metadata": {},
     "output_type": "execute_result"
    }
   ],
   "source": [
    "bot_users.loc[bot_users.username=='truefaith1'].password_id"
   ]
  },
  {
   "cell_type": "code",
   "execution_count": 10,
   "id": "a5ef538c",
   "metadata": {},
   "outputs": [
    {
     "data": {
      "text/plain": [
       "84"
      ]
     },
     "execution_count": 10,
     "metadata": {},
     "output_type": "execute_result"
    }
   ],
   "source": [
    "truefaith1_network = bot_users.loc[bot_users.password_id == 'password_1557500']\n",
    "len(truefaith1_network)"
   ]
  },
  {
   "cell_type": "markdown",
   "id": "4ba81041",
   "metadata": {},
   "source": [
    "On 2017-03-01, truefaith1 commented 43 times, the most number of times it commented since created. I looked into what these comments were but found nothing similar, but I noted that they were all in the same forum: breitbartproduction. This is not much of a breakthrough, so I assume looking into the dates led me to a deadend.\n",
    "I will try to:\n",
    "1. Look if there are any correlations in their comments,\n",
    "2. Figure out any similar username convention,\n",
    "3. Look at when all these accounts were created or when they commented."
   ]
  },
  {
   "cell_type": "code",
   "execution_count": 11,
   "id": "c5f2e37e",
   "metadata": {
    "scrolled": true
   },
   "outputs": [
    {
     "name": "stdout",
     "output_type": "stream",
     "text": [
      "Bot users in network: 49, Total no. of comments: 13482\n",
      "Unique comments: 13298, Percentage of unique: 98.64 %\n"
     ]
    }
   ],
   "source": [
    "truefaith1_network_messages = bot_comments.loc[bot_comments.username.isin(truefaith1_network.username)]\n",
    "temp = len(truefaith1_network_messages.drop_duplicates('message'))\n",
    "print(f\"Bot users in network: {len(truefaith1_network_messages.drop_duplicates(subset='username'))}, Total no. of comments: {len(truefaith1_network_messages)}\")\n",
    "print(f\"Unique comments: {temp}, Percentage of unique: {round(temp/len(truefaith1_network_messages)*100, 2)} %\")"
   ]
  },
  {
   "cell_type": "code",
   "execution_count": 12,
   "id": "494757c8",
   "metadata": {},
   "outputs": [
    {
     "name": "stdout",
     "output_type": "stream",
     "text": [
      "No. of users with '.+[0-9]+$' regex name format: 18\n"
     ]
    },
    {
     "data": {
      "text/plain": [
       "array(['truefaith1', 'KayakMomma', '912anita', 'purpleodyssey', 'hmm43',\n",
       "       'ificanhelp', 'NLVMOM', 'sicofdeadbeats', 'Bfaithful',\n",
       "       'Gloryb2God', 'jessayin', 'double2d',\n",
       "       'remote-domain-45a9c220aa008c10a0e581f44c0627e9', 'nanamarcy',\n",
       "       'Pissy23', 'tonyperry', 'psittacism', 'lakeresident',\n",
       "       'MorganHillResident', 'c63', '2dogs2', 'arm985', 'ayse007',\n",
       "       'Beckybear19', 'JK40', 'Tbone1555', 'CmonUall', 'sgtmac1',\n",
       "       'whatatragedy', 'ladyshipII', '1rebelgirl1', 'Tjones10',\n",
       "       'mlbam-e8be1923e40edc34a82daf7e7faf8d5e', 'IMHO1', 'DeniseSummers',\n",
       "       'myopinion83221', 'bizjournals-MzAwOTAwNDozOmx2c1lTTVYvZTJs',\n",
       "       '421850', 'justsayinwhatithink', 'everettrl', 'talentedtenth',\n",
       "       'redrooster17', 'winlan', 'lennybruce', 'fruitpunch',\n",
       "       'myopinionfaq', 'ireneraelian', 'kwilliamsteam', 'ColusaCA'],\n",
       "      dtype=object)"
      ]
     },
     "execution_count": 12,
     "metadata": {},
     "output_type": "execute_result"
    }
   ],
   "source": [
    "temp = len(truefaith1_network_messages.loc[truefaith1_network_messages.username.str.contains('.+[0-9]+$', regex=True)].username.value_counts())\n",
    "print(f\"No. of users with '.+[0-9]+$' regex name format: {temp}\")\n",
    "truefaith1_network_messages.username.unique()"
   ]
  },
  {
   "cell_type": "code",
   "execution_count": 14,
   "id": "3b8a13df",
   "metadata": {},
   "outputs": [
    {
     "name": "stderr",
     "output_type": "stream",
     "text": [
      "C:\\Users\\maeky\\AppData\\Local\\Temp/ipykernel_41796/737291858.py:1: SettingWithCopyWarning: \n",
      "A value is trying to be set on a copy of a slice from a DataFrame.\n",
      "Try using .loc[row_indexer,col_indexer] = value instead\n",
      "\n",
      "See the caveats in the documentation: https://pandas.pydata.org/pandas-docs/stable/user_guide/indexing.html#returning-a-view-versus-a-copy\n",
      "  truefaith1_network_messages[\"createdAt\"] = pd.to_datetime(truefaith1_network_messages.createdAt.astype(str).str.split(' ').str[0])\n"
     ]
    },
    {
     "data": {
      "text/plain": [
       "<AxesSubplot:>"
      ]
     },
     "execution_count": 14,
     "metadata": {},
     "output_type": "execute_result"
    },
    {
     "data": {
      "image/png": "[encoded data removed]",
      "text/plain": [
       "<Figure size 432x288 with 1 Axes>"
      ]
     },
     "metadata": {
      "needs_background": "light"
     },
     "output_type": "display_data"
    }
   ],
   "source": [
    "truefaith1_network_messages[\"createdAt\"] = pd.to_datetime(truefaith1_network_messages.createdAt.astype(str).str.split(' ').str[0])\n",
    "truefaith1_network_messages.createdAt.value_counts().plot(kind='line')"
   ]
  },
  {
   "cell_type": "code",
   "execution_count": 17,
   "id": "d2670e08",
   "metadata": {},
   "outputs": [
    {
     "name": "stderr",
     "output_type": "stream",
     "text": [
      "C:\\Users\\maeky\\AppData\\Local\\Programs\\Python\\Python39\\lib\\site-packages\\pandas\\core\\generic.py:5516: SettingWithCopyWarning: \n",
      "A value is trying to be set on a copy of a slice from a DataFrame.\n",
      "Try using .loc[row_indexer,col_indexer] = value instead\n",
      "\n",
      "See the caveats in the documentation: https://pandas.pydata.org/pandas-docs/stable/user_guide/indexing.html#returning-a-view-versus-a-copy\n",
      "  self[name] = value\n"
     ]
    },
    {
     "data": {
      "text/plain": [
       "<AxesSubplot:>"
      ]
     },
     "execution_count": 17,
     "metadata": {},
     "output_type": "execute_result"
    },
    {
     "data": {
      "image/png": "[encoded data removed]",
      "text/plain": [
       "<Figure size 432x288 with 1 Axes>"
      ]
     },
     "metadata": {
      "needs_background": "light"
     },
     "output_type": "display_data"
    }
   ],
   "source": [
    "truefaith1_network.creation_date = pd.to_datetime(truefaith1_network.creation_date.astype(str).str.split(' ').str[0])\n",
    "truefaith1_network.creation_year = pd.to_datetime(truefaith1_network.creation_date.astype(str).str.split('-').str[0])\n",
    "pd.to_datetime(truefaith1_network.creation_year.astype(str).str.split('-').str[0]).value_counts().plot(kind='line')"
   ]
  },
  {
   "cell_type": "markdown",
   "id": "2a76c79b",
   "metadata": {},
   "source": [
    "1. 98.64 % of the comments from this network sharing password IDs with truefaith1 was unique. No correlation.\n",
    "2. Seems to have a mix of username conventions with the most common structure having only 18 instances.\n",
    "3. Some spikes in comment frequency over time that looked suspicious. It seems a lot of the accounts were created on 2011, and judging by the first graph, a lot of them were highly active around the end of 2011. This reaffirms my guess that they are from the same network, however I cannot find any correlation in their data whether it be username convention, comments created, or purpose."
   ]
  },
  {
   "cell_type": "code",
   "execution_count": 71,
   "id": "171971ff",
   "metadata": {},
   "outputs": [
    {
     "data": {
      "text/html": [
       "<div>\n",
       "<style scoped>\n",
       "    .dataframe tbody tr th:only-of-type {\n",
       "        vertical-align: middle;\n",
       "    }\n",
       "\n",
       "    .dataframe tbody tr th {\n",
       "        vertical-align: top;\n",
       "    }\n",
       "\n",
       "    .dataframe thead th {\n",
       "        text-align: right;\n",
       "    }\n",
       "</style>\n",
       "<table border=\"1\" class=\"dataframe\">\n",
       "  <thead>\n",
       "    <tr style=\"text-align: right;\">\n",
       "      <th></th>\n",
       "      <th>words</th>\n",
       "      <th>count</th>\n",
       "    </tr>\n",
       "  </thead>\n",
       "  <tbody>\n",
       "    <tr>\n",
       "      <th>300</th>\n",
       "      <td>me.</td>\n",
       "      <td>171</td>\n",
       "    </tr>\n",
       "    <tr>\n",
       "      <th>301</th>\n",
       "      <td>let's</td>\n",
       "      <td>170</td>\n",
       "    </tr>\n",
       "    <tr>\n",
       "      <th>302</th>\n",
       "      <td>alec</td>\n",
       "      <td>169</td>\n",
       "    </tr>\n",
       "    <tr>\n",
       "      <th>303</th>\n",
       "      <td>&lt;p&gt;no</td>\n",
       "      <td>169</td>\n",
       "    </tr>\n",
       "    <tr>\n",
       "      <th>304</th>\n",
       "      <td>everyone</td>\n",
       "      <td>168</td>\n",
       "    </tr>\n",
       "    <tr>\n",
       "      <th>305</th>\n",
       "      <td>truth</td>\n",
       "      <td>168</td>\n",
       "    </tr>\n",
       "    <tr>\n",
       "      <th>306</th>\n",
       "      <td>buy</td>\n",
       "      <td>168</td>\n",
       "    </tr>\n",
       "    <tr>\n",
       "      <th>307</th>\n",
       "      <td>watch</td>\n",
       "      <td>168</td>\n",
       "    </tr>\n",
       "    <tr>\n",
       "      <th>308</th>\n",
       "      <td>once</td>\n",
       "      <td>167</td>\n",
       "    </tr>\n",
       "    <tr>\n",
       "      <th>309</th>\n",
       "      <td>election</td>\n",
       "      <td>167</td>\n",
       "    </tr>\n",
       "    <tr>\n",
       "      <th>310</th>\n",
       "      <td>wonder</td>\n",
       "      <td>167</td>\n",
       "    </tr>\n",
       "    <tr>\n",
       "      <th>311</th>\n",
       "      <td>check</td>\n",
       "      <td>167</td>\n",
       "    </tr>\n",
       "    <tr>\n",
       "      <th>312</th>\n",
       "      <td>saying</td>\n",
       "      <td>167</td>\n",
       "    </tr>\n",
       "    <tr>\n",
       "      <th>313</th>\n",
       "      <td>do.</td>\n",
       "      <td>166</td>\n",
       "    </tr>\n",
       "    <tr>\n",
       "      <th>314</th>\n",
       "      <td>fair</td>\n",
       "      <td>164</td>\n",
       "    </tr>\n",
       "    <tr>\n",
       "      <th>315</th>\n",
       "      <td>understand</td>\n",
       "      <td>163</td>\n",
       "    </tr>\n",
       "    <tr>\n",
       "      <th>316</th>\n",
       "      <td>far</td>\n",
       "      <td>163</td>\n",
       "    </tr>\n",
       "    <tr>\n",
       "      <th>317</th>\n",
       "      <td>under</td>\n",
       "      <td>163</td>\n",
       "    </tr>\n",
       "    <tr>\n",
       "      <th>318</th>\n",
       "      <td>americans</td>\n",
       "      <td>161</td>\n",
       "    </tr>\n",
       "    <tr>\n",
       "      <th>319</th>\n",
       "      <td>day</td>\n",
       "      <td>161</td>\n",
       "    </tr>\n",
       "    <tr>\n",
       "      <th>320</th>\n",
       "      <td>ones</td>\n",
       "      <td>158</td>\n",
       "    </tr>\n",
       "    <tr>\n",
       "      <th>321</th>\n",
       "      <td>create</td>\n",
       "      <td>158</td>\n",
       "    </tr>\n",
       "    <tr>\n",
       "      <th>322</th>\n",
       "      <td>gonna</td>\n",
       "      <td>157</td>\n",
       "    </tr>\n",
       "    <tr>\n",
       "      <th>323</th>\n",
       "      <td>liberal</td>\n",
       "      <td>157</td>\n",
       "    </tr>\n",
       "    <tr>\n",
       "      <th>324</th>\n",
       "      <td>stand</td>\n",
       "      <td>157</td>\n",
       "    </tr>\n",
       "    <tr>\n",
       "      <th>325</th>\n",
       "      <td>background</td>\n",
       "      <td>156</td>\n",
       "    </tr>\n",
       "    <tr>\n",
       "      <th>326</th>\n",
       "      <td>ask</td>\n",
       "      <td>155</td>\n",
       "    </tr>\n",
       "    <tr>\n",
       "      <th>327</th>\n",
       "      <td>says</td>\n",
       "      <td>153</td>\n",
       "    </tr>\n",
       "    <tr>\n",
       "      <th>328</th>\n",
       "      <td>become</td>\n",
       "      <td>152</td>\n",
       "    </tr>\n",
       "    <tr>\n",
       "      <th>329</th>\n",
       "      <td>&lt;p&gt;this</td>\n",
       "      <td>150</td>\n",
       "    </tr>\n",
       "    <tr>\n",
       "      <th>330</th>\n",
       "      <td>liberals</td>\n",
       "      <td>150</td>\n",
       "    </tr>\n",
       "    <tr>\n",
       "      <th>331</th>\n",
       "      <td>house</td>\n",
       "      <td>149</td>\n",
       "    </tr>\n",
       "    <tr>\n",
       "      <th>332</th>\n",
       "      <td>police</td>\n",
       "      <td>148</td>\n",
       "    </tr>\n",
       "    <tr>\n",
       "      <th>333</th>\n",
       "      <td>last</td>\n",
       "      <td>148</td>\n",
       "    </tr>\n",
       "    <tr>\n",
       "      <th>334</th>\n",
       "      <td>given</td>\n",
       "      <td>148</td>\n",
       "    </tr>\n",
       "    <tr>\n",
       "      <th>335</th>\n",
       "      <td>&lt;p&gt;that</td>\n",
       "      <td>147</td>\n",
       "    </tr>\n",
       "    <tr>\n",
       "      <th>336</th>\n",
       "      <td>media</td>\n",
       "      <td>146</td>\n",
       "    </tr>\n",
       "    <tr>\n",
       "      <th>337</th>\n",
       "      <td>everything</td>\n",
       "      <td>146</td>\n",
       "    </tr>\n",
       "    <tr>\n",
       "      <th>338</th>\n",
       "      <td>old</td>\n",
       "      <td>146</td>\n",
       "    </tr>\n",
       "    <tr>\n",
       "      <th>339</th>\n",
       "      <td>congress</td>\n",
       "      <td>146</td>\n",
       "    </tr>\n",
       "    <tr>\n",
       "      <th>340</th>\n",
       "      <td>political</td>\n",
       "      <td>145</td>\n",
       "    </tr>\n",
       "    <tr>\n",
       "      <th>341</th>\n",
       "      <td>carry</td>\n",
       "      <td>144</td>\n",
       "    </tr>\n",
       "    <tr>\n",
       "      <th>342</th>\n",
       "      <td>absolutely</td>\n",
       "      <td>143</td>\n",
       "    </tr>\n",
       "    <tr>\n",
       "      <th>343</th>\n",
       "      <td>next</td>\n",
       "      <td>143</td>\n",
       "    </tr>\n",
       "    <tr>\n",
       "      <th>344</th>\n",
       "      <td>taking</td>\n",
       "      <td>143</td>\n",
       "    </tr>\n",
       "    <tr>\n",
       "      <th>345</th>\n",
       "      <td>comes</td>\n",
       "      <td>143</td>\n",
       "    </tr>\n",
       "    <tr>\n",
       "      <th>346</th>\n",
       "      <td>seem</td>\n",
       "      <td>143</td>\n",
       "    </tr>\n",
       "    <tr>\n",
       "      <th>347</th>\n",
       "      <td>woman</td>\n",
       "      <td>143</td>\n",
       "    </tr>\n",
       "    <tr>\n",
       "      <th>348</th>\n",
       "      <td>workers</td>\n",
       "      <td>142</td>\n",
       "    </tr>\n",
       "    <tr>\n",
       "      <th>349</th>\n",
       "      <td>paying</td>\n",
       "      <td>142</td>\n",
       "    </tr>\n",
       "  </tbody>\n",
       "</table>\n",
       "</div>"
      ],
      "text/plain": [
       "          words  count\n",
       "300         me.    171\n",
       "301       let's    170\n",
       "302        alec    169\n",
       "303       <p>no    169\n",
       "304    everyone    168\n",
       "305       truth    168\n",
       "306         buy    168\n",
       "307       watch    168\n",
       "308        once    167\n",
       "309    election    167\n",
       "310      wonder    167\n",
       "311       check    167\n",
       "312      saying    167\n",
       "313         do.    166\n",
       "314        fair    164\n",
       "315  understand    163\n",
       "316         far    163\n",
       "317       under    163\n",
       "318   americans    161\n",
       "319         day    161\n",
       "320        ones    158\n",
       "321      create    158\n",
       "322       gonna    157\n",
       "323     liberal    157\n",
       "324       stand    157\n",
       "325  background    156\n",
       "326         ask    155\n",
       "327        says    153\n",
       "328      become    152\n",
       "329     <p>this    150\n",
       "330    liberals    150\n",
       "331       house    149\n",
       "332      police    148\n",
       "333        last    148\n",
       "334       given    148\n",
       "335     <p>that    147\n",
       "336       media    146\n",
       "337  everything    146\n",
       "338         old    146\n",
       "339    congress    146\n",
       "340   political    145\n",
       "341       carry    144\n",
       "342  absolutely    143\n",
       "343        next    143\n",
       "344      taking    143\n",
       "345       comes    143\n",
       "346        seem    143\n",
       "347       woman    143\n",
       "348     workers    142\n",
       "349      paying    142"
      ]
     },
     "execution_count": 71,
     "metadata": {},
     "output_type": "execute_result"
    }
   ],
   "source": [
    "common_words = pd.Series(' '.join(truefaith1_network_messages['message']).lower().split()).value_counts().reset_index()\n",
    "common_words = common_words.rename(columns={'index':'words', 0:'count'})\n",
    "common_words.iloc[300:500].head(50)"
   ]
  },
  {
   "cell_type": "markdown",
   "id": "8a401d00",
   "metadata": {},
   "source": [
    "## **Conclusion:**\n",
    "I was unable to find any distinctive similarities for this network. A possible reason is because these bots used their own machine-learning algorithm to mimic interactions between real users. They must be using their own database consisting of how humans communicate on social media to write their responses. \n",
    "\n",
    "Observing the bot truefaith1 and its network, there is bias against democrats in their comments when I went through it on my own. The words that appear quite frequently seemed to talk about American politics. The best I can gather is that they were artificially amplifying the popularity of the creator's opinion.\n",
    "\n",
    "If these networks were created based off of a database of actual human responses, what is the best approach to identify similar networks when we do not have their database?"
   ]
  }
 ],
 "metadata": {
  "kernelspec": {
   "display_name": "Python 3 (ipykernel)",
   "language": "python",
   "name": "python3"
  },
  "language_info": {
   "codemirror_mode": {
    "name": "ipython",
    "version": 3
   },
   "file_extension": ".py",
   "mimetype": "text/x-python",
   "name": "python",
   "nbconvert_exporter": "python",
   "pygments_lexer": "ipython3",
   "version": "3.9.6"
  }
 },
 "nbformat": 4,
 "nbformat_minor": 5
}
